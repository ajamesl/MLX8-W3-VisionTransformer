{
 "cells": [
  {
   "cell_type": "code",
   "execution_count": 7,
   "id": "6185de94",
   "metadata": {},
   "outputs": [],
   "source": [
    "import torch\n",
    "import torch.nn as nn\n",
    "import torch.nn.functional as F \n",
    "from torchvision import datasets, transforms\n",
    "from torch.utils.data import TensorDataset, DataLoader\n",
    "from tqdm import tqdm\n",
    "import random\n",
    "import matplotlib.pyplot as plt\n",
    "%matplotlib inline"
   ]
  },
  {
   "cell_type": "code",
   "execution_count": 2,
   "id": "692a6664",
   "metadata": {},
   "outputs": [],
   "source": [
    "# -----------------------------\n",
    "# 1. Load MSNIST dataset\n",
    "# -----------------------------\n",
    "\n",
    "# This will stream the data, you don't have to download the full file\n",
    "# mnist_train = load_dataset(\"ylecun/mnist\", split=\"train\")\n",
    "\n",
    "# mnist_test = load_dataset(\"ylecun/mnist\", split=\"test\")\n",
    "\n",
    "\n",
    "##### Look into the normalisation #####\n",
    "transform = transforms.Compose([\n",
    "        transforms.ToTensor(),\n",
    "        transforms.Normalize((0.1307,), (0.3081,))\n",
    "    ])\n",
    "\n",
    "mnist_train = datasets.MNIST(\"./data\", train=True, download=False, transform=transform)\n",
    "\n",
    "mnist_test = datasets.MNIST(\"./data\", train=False, download=False, transform=transform)"
   ]
  },
  {
   "cell_type": "code",
   "execution_count": 32,
   "id": "ee92b20e",
   "metadata": {},
   "outputs": [],
   "source": [
    "def stitch_images(images, grid_size):\n",
    "    \"\"\"\n",
    "    images: Tensor of shape (n, 1, 28, 28)\n",
    "    grid_size: int, e.g., 2 or 3\n",
    "    Returns: Tensor of shape (1, 28*grid_size, 28*grid_size)\n",
    "    \"\"\"\n",
    "    assert images.shape[0] == grid_size**2\n",
    "    # Remove the channel dimension for concatenation\n",
    "    images = images.squeeze(1)  # Now shape: (n, 28, 28)\n",
    "    rows = []\n",
    "    for i in range(grid_size):\n",
    "        row = torch.cat([images[i * grid_size + j] for j in range(grid_size)], dim=1)\n",
    "        rows.append(row)\n",
    "    stitched = torch.cat(rows, dim=0)  # Shape: (28*grid_size, 28*grid_size)\n",
    "    return stitched.unsqueeze(0)       # Shape: (1, 28*grid_size, 28*grid_size)\n",
    "\n",
    "def sample_random_images(dataset, num):\n",
    "    idxs = random.sample(range(len(dataset)), num)\n",
    "    imgs = []\n",
    "    for i in idxs:\n",
    "        img, _ = dataset[i]  # img: (1, 28, 28)\n",
    "        imgs.append(img)\n",
    "    return torch.stack(imgs)"
   ]
  },
  {
   "cell_type": "code",
   "execution_count": 33,
   "id": "45983e1f",
   "metadata": {},
   "outputs": [],
   "source": [
    "def patch(img, patch_size=7):\n",
    "    # img shape: (1, 28, 28)\n",
    "    patches = img.unfold(1, patch_size, patch_size).unfold(2, patch_size, patch_size)\n",
    "    # shape: (1, 4, 4, 7, 7)\n",
    "    patches = patches.contiguous().view(1, -1, patch_size, patch_size)\n",
    "    # shape: (1, 16, 7, 7)\n",
    "    return patches.squeeze(0)  # (16, 7, 7)\n"
   ]
  },
  {
   "cell_type": "code",
   "execution_count": 53,
   "id": "91b159b9",
   "metadata": {},
   "outputs": [
    {
     "data": {
      "text/plain": [
       "(-0.5, 83.5, 83.5, -0.5)"
      ]
     },
     "execution_count": 53,
     "metadata": {},
     "output_type": "execute_result"
    },
    {
     "data": {
      "image/png": "[encoded data removed]",
      "text/plain": [
       "<Figure size 640x480 with 1 Axes>"
      ]
     },
     "metadata": {},
     "output_type": "display_data"
    }
   ],
   "source": [
    "# Build stitched image (make sure grid_size*28 divisible by 7)\n",
    "grid_size = 3\n",
    "imgs = sample_random_images(mnist_train, grid_size**2)         # (4, 1, 28, 28)\n",
    "stitched = stitch_images(imgs, grid_size)                      # (1, 56, 56)\n",
    "plt.imshow(stitched.squeeze(), cmap='gray')\n",
    "plt.axis('off')"
   ]
  },
  {
   "cell_type": "code",
   "execution_count": 50,
   "id": "9a7c7c61",
   "metadata": {},
   "outputs": [
    {
     "name": "stdout",
     "output_type": "stream",
     "text": [
      "torch.Size([1, 56, 56])\n"
     ]
    },
    {
     "data": {
      "image/png": "[encoded data removed]",
      "text/plain": [
       "<Figure size 600x600 with 16 Axes>"
      ]
     },
     "metadata": {},
     "output_type": "display_data"
    }
   ],
   "source": [
    "print(stitched.shape)  # Should be (1, 56, 56)\n",
    "patches = patch(stitched, patch_size=14) \n",
    "\n",
    "num_patches = patches.shape[0]\n",
    "side = int(num_patches ** 0.5)\n",
    "\n",
    "fig, axes = plt.subplots(side, side, figsize=(6, 6))\n",
    "\n",
    "for i, ax in enumerate(axes.flat):\n",
    "    ax.imshow(patches[i], cmap='gray')\n",
    "    ax.axis('off')\n"
   ]
  },
  {
   "cell_type": "code",
   "execution_count": null,
   "id": "36491dc4",
   "metadata": {},
   "outputs": [],
   "source": []
  }
 ],
 "metadata": {
  "kernelspec": {
   "display_name": "Python 3",
   "language": "python",
   "name": "python3"
  },
  "language_info": {
   "codemirror_mode": {
    "name": "ipython",
    "version": 3
   },
   "file_extension": ".py",
   "mimetype": "text/x-python",
   "name": "python",
   "nbconvert_exporter": "python",
   "pygments_lexer": "ipython3",
   "version": "3.12.10"
  }
 },
 "nbformat": 4,
 "nbformat_minor": 5
}
