{
 "cells": [
  {
   "cell_type": "code",
   "execution_count": 14,
   "id": "c9137816",
   "metadata": {},
   "outputs": [],
   "source": [
    "import torch\n",
    "import torch.nn as nn\n",
    "import torch.nn.functional as F \n",
    "from torchvision import datasets, transforms\n",
    "from tqdm import tqdm\n",
    "import matplotlib.pyplot as plt\n",
    "import random\n",
    "%matplotlib inline"
   ]
  },
  {
   "cell_type": "code",
   "execution_count": 25,
   "id": "14b6fae2",
   "metadata": {},
   "outputs": [],
   "source": [
    "# -----------------------------\n",
    "# 1. Load MSNIST dataset\n",
    "# -----------------------------\n",
    "\n",
    "# This will stream the data, you don't have to download the full file\n",
    "# mnist_train = load_dataset(\"ylecun/mnist\", split=\"train\")\n",
    "\n",
    "# mnist_test = load_dataset(\"ylecun/mnist\", split=\"test\")\n",
    "\n",
    "\n",
    "##### Look into the normalisation #####\n",
    "transform = transforms.Compose([\n",
    "        transforms.ToTensor(),\n",
    "        transforms.Normalize((0.1307,), (0.3081,))\n",
    "    ])\n",
    "\n",
    "mnist_train = datasets.MNIST(\"./data\", train=True, download=True, transform=transform)\n",
    "\n",
    "mnist_test = datasets.MNIST(\"./data\", train=False, download=True, transform=transform)"
   ]
  },
  {
   "cell_type": "code",
   "execution_count": 29,
   "id": "6bc1349b",
   "metadata": {},
   "outputs": [
    {
     "name": "stdout",
     "output_type": "stream",
     "text": [
      "torch.Size([1, 28, 28])\n",
      "<class 'int'>\n"
     ]
    }
   ],
   "source": [
    "img, label = mnist_train[0]\n",
    "print(img.shape)    # e.g., torch.Size([1, 28, 28])\n",
    "print(type(label)) "
   ]
  },
  {
   "cell_type": "code",
   "execution_count": 16,
   "id": "87a00c4c",
   "metadata": {},
   "outputs": [],
   "source": [
    "def patch(img, patch_size=7):\n",
    "    # img shape: (1, 28, 28)\n",
    "    patches = img.unfold(1, patch_size, patch_size).unfold(2, patch_size, patch_size)\n",
    "    # shape: (1, 4, 4, 7, 7)\n",
    "    patches = patches.contiguous().view(1, -1, patch_size, patch_size)\n",
    "    # shape: (1, 16, 7, 7)\n",
    "    return patches.squeeze(0)  # (16, 7, 7)\n",
    "\n",
    "def batch_patch(batch_imgs, patch_size=7):\n",
    "    # batch_imgs: (B, 1, 28, 28)\n",
    "    B = batch_imgs.shape[0]\n",
    "    patches = batch_imgs.unfold(2, patch_size, patch_size).unfold(3, patch_size, patch_size)\n",
    "    # (B, 1, 4, 4, 7, 7)\n",
    "    patches = patches.contiguous().view(B, 1, -1, patch_size, patch_size)  # (B, 1, 16, 7, 7)\n",
    "    patches = patches.squeeze(1)  # (B, 16, 7, 7)\n",
    "    return patches\n",
    "\n"
   ]
  },
  {
   "cell_type": "code",
   "execution_count": 17,
   "id": "baa66336",
   "metadata": {},
   "outputs": [
    {
     "name": "stdout",
     "output_type": "stream",
     "text": [
      "torch.Size([16, 7, 7])\n"
     ]
    }
   ],
   "source": [
    "img, label = mnist_train[0]  # img: (1, 28, 28)\n",
    "patches = patch(img, patch_size=7)\n",
    "print(patches.shape)  # Should print: torch.Size([16, 7, 7])"
   ]
  },
  {
   "cell_type": "code",
   "execution_count": 26,
   "id": "703d37d8",
   "metadata": {},
   "outputs": [
    {
     "name": "stdout",
     "output_type": "stream",
     "text": [
      "torch.Size([60000, 16, 7, 7])\n"
     ]
    }
   ],
   "source": [
    "all_patches = [patch(img) for img, _ in mnist_train]  # list of (16,7,7)\n",
    "all_patches = torch.stack(all_patches)  # (N, 16, 7, 7)\n",
    "all_labels = torch.tensor([label for _, label in mnist_train])  # shape: (60000,)\n"
   ]
  },
  {
   "cell_type": "code",
   "execution_count": 27,
   "id": "7450918c",
   "metadata": {},
   "outputs": [
    {
     "name": "stdout",
     "output_type": "stream",
     "text": [
      "torch.Size([60000, 16, 7, 7])\n",
      "torch.Size([60000])\n"
     ]
    }
   ],
   "source": [
    "print(all_patches.shape)  # Should print: torch.Size([60000, 16, 7, 7])\n",
    "print(all_labels.shape)  # Should print: torch.Size([60000])\n"
   ]
  },
  {
   "cell_type": "code",
   "execution_count": null,
   "id": "b161c899",
   "metadata": {},
   "outputs": [],
   "source": []
  }
 ],
 "metadata": {
  "kernelspec": {
   "display_name": "Python 3",
   "language": "python",
   "name": "python3"
  },
  "language_info": {
   "codemirror_mode": {
    "name": "ipython",
    "version": 3
   },
   "file_extension": ".py",
   "mimetype": "text/x-python",
   "name": "python",
   "nbconvert_exporter": "python",
   "pygments_lexer": "ipython3",
   "version": "3.12.10"
  }
 },
 "nbformat": 4,
 "nbformat_minor": 5
}
